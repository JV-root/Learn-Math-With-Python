{
 "cells": [
  {
   "cell_type": "markdown",
   "id": "bcba3e04",
   "metadata": {},
   "source": [
    "# Aprendendo Matemática com Python Noções de Lógica e Tabela Verdade"
   ]
  },
  {
   "cell_type": "markdown",
   "id": "eb4975b7",
   "metadata": {},
   "source": [
    "<img src=\"https://miro.medium.com/v2/resize:fit:720/format:webp/1*5_1kB3dyPCWk1KeYJeP2Ug.jpeg\" alt=\"Professora Ensinando Noções de Lógica\" width = 650 height = 650>"
   ]
  },
  {
   "cell_type": "markdown",
   "id": "9e5c2ed1",
   "metadata": {},
   "source": [
    "# 1.0 Introdução\n",
    "Fala, pessoal! Sejam muito bem-vindos à mais uma etapa da nossa jornada de aprendizado de Matemática com Python!\n",
    "\n",
    "\n",
    "Nesta edição, eu escrevi bastante sobre a parte histórica do tema, pois confesso que me divirto muito aprendendo sobre. Então para aqueles que desejam ir diretamente à aplicação em Python, irei deixar um sumário com todos os tópicos.\n",
    "\n",
    "\n",
    "Sem mais enrolação, vamos nessa!"
   ]
  },
  {
   "cell_type": "markdown",
   "id": "d9861df1",
   "metadata": {},
   "source": [
    "# 2.0 Noções de Lógica\n",
    "\n",
    "\n",
    "A lógica é o alicerce da matemática, proporcionando as regras essenciais do raciocínio e fundamentando as decisões sobre a validade de argumentos e proposições.\n",
    "\n",
    "\n",
    "Além do campo da matemática, na Ciência da Computação, a lógica tem um papel crucial. Um raciocínio lógico sólido é essencial para a construção de códigos com desempenho otimizado, melhor legibilidade e dinamicidade."
   ]
  },
  {
   "cell_type": "markdown",
   "id": "c27c7f17",
   "metadata": {},
   "source": [
    "> \"Ela [a Lógica] lhe dará clareza de pensamento, a habilidade de ver seu caminho através de um quebra-cabeça, o hábito de arranjar suas ideias numa forma acessível e ordenada e, mais valioso que tudo, o poder de detectar falácias e despedaçar os argumentos ilógicos e inconsistentes que você encontrará tão facilmente nos livros, jornais, na linguagem cotidiana e mesmo nos sermões e que tão facilmente enganam aqueles que nunca tiveram o trabalho de instruir-se nesta fascinante arte\" Lewis Carrol"
   ]
  },
  {
   "cell_type": "markdown",
   "id": "37560b5a",
   "metadata": {},
   "source": [
    "<img src=\"https://miro.medium.com/v2/resize:fit:720/format:webp/1*s68ouHWwIaygZD6se59JnQ.png\" alt=\"Alice no Pais das Maravilhas - Lewis Carrol\"> "
   ]
  },
  {
   "cell_type": "markdown",
   "id": "adef7cc6",
   "metadata": {},
   "source": [
    "Mas como tudo isso teve início?"
   ]
  },
  {
   "cell_type": "markdown",
   "id": "2194c8fb",
   "metadata": {},
   "source": [
    "## 2.1 A Lógica Aristotélica\n",
    "\n",
    "Na Grécia Clássica, por volta de 350 a,C., o pensador grego Aristóteles desenvolveu a primeira tentativa para estabelecer os princípios fundamentais da lógica. \n",
    "\n",
    "Insatisfeito com o método dialético de Sócrates, que se baseava em questionar hipóteses expondo incoerências e contradições, Aristóteles buscou estruturar argumentos lógicos de maneira sistemática. Ele identificou diferentes tipos de proposições e introduziu o conceito de silogismo, uma forma lógica composta por duas premissas que levam a uma conclusão.\n",
    "\n",
    "O mais famoso exemplo de silogismo é:"
   ]
  },
  {
   "cell_type": "markdown",
   "id": "896c8553",
   "metadata": {},
   "source": [
    "> \"Todos os homens são mortais.\n",
    "\n",
    "> Aristóteles é homem,\n",
    "\n",
    "> Logo,\n",
    "\n",
    "> Aristóteles é mortal.\""
   ]
  },
  {
   "cell_type": "markdown",
   "id": "34ba7687",
   "metadata": {},
   "source": [
    "<img src=\"https://miro.medium.com/v2/resize:fit:720/format:webp/1*lP_NjrMUtZgro1jKn4zUjw.png\" alt=\"Lógica Aristotélica\" width = 650 height = 650>"
   ]
  },
  {
   "cell_type": "markdown",
   "id": "d88da0c0",
   "metadata": {},
   "source": [
    "## 2.2 A Álgebra Booliana\n",
    "\n",
    "No século XIX, um momento crucial marcou o início da lógica como uma disciplina da matemática. George Boole, um renomado matemático britânico, envolveu-se em uma disputa filosófica com o seu amigo Augustus De Morgan (guarde esse nome) sobre a autoria de uma ideia específica.\n",
    "\n",
    "Embora Boole não estivesse diretamente envolvido, o evento o inspirou a desenvolver suas ideias sobre a formalização da lógica por meio da matemática, como descrito em seu ensaio de 1847, intitulado \"Análise Matemática da Lógica\"."
   ]
  },
  {
   "cell_type": "markdown",
   "id": "d7b187f6",
   "metadata": {},
   "source": [
    "<img src=\"https://miro.medium.com/v2/resize:fit:518/format:webp/1*igdaMTKj11x7iWdZVVu5Vg.png\" alt=\"the mathematical analysis of logic\">"
   ]
  },
  {
   "cell_type": "markdown",
   "id": "21a4b4b6",
   "metadata": {},
   "source": [
    "Boole queria formular argumentos lógicos de maneira que pudessem ser manipulados e resolvidos matematicamente. Para alcançar esse objetivo, ele introduziu uma espécie de álgebra linguística, substituindo as operações comuns da álgebra, como adição e multiplicação, pelos conectores utilizados na lógica.\n",
    "\n",
    "\n",
    "Similar à álgebra, o uso de símbolos e conectivos por Boole permitiu a simplificação de expressões lógicas. \n",
    "\n",
    "\n",
    "As três principais operações da álgebra booleana são: \n",
    "\n",
    "\n",
    "**E (AND), OU (OR) e NÃO (NOT)**\n",
    "\n",
    "\n",
    "Boole acreditava que essas eram as únicas operações necessárias para realizar comparações de conjuntos, assim como funções matemáticas básicas."
   ]
  },
  {
   "cell_type": "markdown",
   "id": "d2e71f54",
   "metadata": {},
   "source": [
    "<img src=\"https://miro.medium.com/v2/resize:fit:720/format:webp/1*WlYNe6t1ENkYoTfaVge7yg.png\" alt=\"Algebra Booliana\" width = 650 height = 650>"
   ]
  },
  {
   "cell_type": "markdown",
   "id": "3c955098",
   "metadata": {},
   "source": [
    "E onde mais você encontra operações que resultam em 1 (True) ou 0 (False)? ISSO MESMO, NO PYTHON!"
   ]
  },
  {
   "cell_type": "markdown",
   "id": "ab141f3f",
   "metadata": {},
   "source": [
    "# 3.0 Noções de Lógica Booliana em Python \n",
    "\n",
    "Antes de mais nada, gostaria de falar um pouco sobre a biblioteca que iremos utilizar nesta aula e em 99% das aulas aqui pra frente."
   ]
  },
  {
   "cell_type": "markdown",
   "id": "51c85a05",
   "metadata": {},
   "source": [
    "## 3.1 Sympy"
   ]
  },
  {
   "cell_type": "markdown",
   "id": "0172628a",
   "metadata": {},
   "source": [
    "<img src=\"https://miro.medium.com/v2/resize:fit:640/format:webp/0*x0hSFni5B9XyrAJT.png\" alt=\"Sympy\">"
   ]
  },
  {
   "cell_type": "markdown",
   "id": "166d1f5e",
   "metadata": {},
   "source": [
    "O Sympy é uma biblioteca de computação simbólica em Python, amplamente reconhecida por sua eficiência e versatilidade no processamento de expressões matemáticas complexas.\n",
    "\n",
    "Com o Sympy, podemos realizar uma variedade de operações matemáticas, desde simplificações algébricas até cálculos de integrais e diferenciação simbólica (Alô pessoal de Calculo, essa é para vocês! 🧙‍♂️). \n",
    "\n",
    "Um Exemplo maneiro do Sympy com equação:"
   ]
  },
  {
   "cell_type": "code",
   "execution_count": 1,
   "id": "1ad18fec",
   "metadata": {},
   "outputs": [
    {
     "data": {
      "text/latex": [
       "$\\displaystyle x + 2 y$"
      ],
      "text/plain": [
       "x + 2*y"
      ]
     },
     "execution_count": 1,
     "metadata": {},
     "output_type": "execute_result"
    }
   ],
   "source": [
    "# pip install Sympy\n",
    "\n",
    "# Importando Biblioteca\n",
    "from sympy import symbols\n",
    "\n",
    "# Definindo Símbolos\n",
    "x, y = symbols('x y')\n",
    "\n",
    "# Definindo Expressão\n",
    "expr = x + 2*y\n",
    "expr"
   ]
  },
  {
   "cell_type": "markdown",
   "id": "99d70365",
   "metadata": {},
   "source": [
    "agora um exemplo mais complexo:"
   ]
  },
  {
   "cell_type": "code",
   "execution_count": 2,
   "id": "0cfd0337",
   "metadata": {},
   "outputs": [],
   "source": [
    "# Imports\n",
    "import sympy as sp\n",
    "from sympy import symbols, Or, And, Not, Equivalent, Implies\n",
    "from IPython.display import display, Math"
   ]
  },
  {
   "cell_type": "code",
   "execution_count": 3,
   "id": "5179bec7",
   "metadata": {
    "scrolled": true
   },
   "outputs": [
    {
     "data": {
      "text/latex": [
       "$\\displaystyle a x^{2} + b x + c = 0$"
      ],
      "text/plain": [
       "<IPython.core.display.Math object>"
      ]
     },
     "metadata": {},
     "output_type": "display_data"
    },
    {
     "name": "stdout",
     "output_type": "stream",
     "text": [
      "--------------------------------------------\n"
     ]
    },
    {
     "data": {
      "text/latex": [
       "$\\displaystyle x = \\frac{- b - \\sqrt{- 4 a c + b^{2}}}{2 a}, \\frac{- b + \\sqrt{- 4 a c + b^{2}}}{2 a}$"
      ],
      "text/plain": [
       "<IPython.core.display.Math object>"
      ]
     },
     "metadata": {},
     "output_type": "display_data"
    }
   ],
   "source": [
    "# Definindo Símbolos\n",
    "a, b, c, x = sp.symbols('a b c x')\n",
    "\n",
    "# Definindo a equação quadrática usando SymPy\n",
    "equacao_quadratica = sp.Eq(a*x**2 + b*x + c, 0)\n",
    "\n",
    "# Resolvendo a equação quadrática usando a fórmula de Bhaskara\n",
    "solucoes = sp.solve(equacao_quadratica, x)\n",
    "\n",
    "# Exibindo a equação quadrática usando LaTeX\n",
    "display(Math(sp.latex(equacao_quadratica)))\n",
    "\n",
    "print('--------------------------------------------')\n",
    "\n",
    "# Exibindo as soluções usando LaTeX\n",
    "display(Math('x = {}'.format(', '.join(map(sp.latex, solucoes)))))\n"
   ]
  },
  {
   "cell_type": "markdown",
   "id": "3a46acd5",
   "metadata": {},
   "source": [
    "Inicialmente, pode parecer bastante coisa para absorver, porém, o Sympy é uma biblioteca muito maneira para aprender. Quando combinado com o LaTeX, se torna um conjunto poderoso de ferramentas para entender os conceitos matemáticos. \n",
    "\n",
    "Abordarei outros aspectos do Sympy em momentos subsequentes.\n",
    "\n",
    "Finalmente, vamos aos conceitos:"
   ]
  },
  {
   "cell_type": "markdown",
   "id": "26c6d519",
   "metadata": {},
   "source": [
    "## 3.2 Preposição\n",
    "\n",
    "Um dos principais conceitos em lógica é o de preposições (ou proposições) que basicamente é uma afirmação que pode ser claramente identificada como **verdadeira** ou **falsa**. \n",
    "\n",
    "Por exemplo, a afirmação:\n",
    "\n",
    "$P$: 'O céu é azul' \n",
    "\n",
    "É uma proposição porque pode ser verificada e classificada como verdadeira ou falsa.\n",
    "\n",
    "Além disso, existem outras regras importantes ao se criar uma preposição:\n",
    "- **Simplicidade** - Deve ser simples, contendo apenas uma afirmação básica.\n",
    "- **Clareza na Linguagem** - A linguagem usada deve ser precisa, evitando ambiguidades.\n",
    "- **Consistência Interna** - Não pode conter contradições internas.\n",
    "- **Completude** - Deve ser completa o suficiente para determinar sua veracidade ou falsidade.\n",
    "- **Independência** - Cada proposição deve ser independente de outras.\n",
    "\n",
    "\n",
    "Demostrando em Python fica assim:"
   ]
  },
  {
   "cell_type": "code",
   "execution_count": 4,
   "id": "04cad8c6",
   "metadata": {},
   "outputs": [
    {
     "data": {
      "text/plain": [
       "'p: O Céu é azul'"
      ]
     },
     "metadata": {},
     "output_type": "display_data"
    }
   ],
   "source": [
    "# Definindo o símbolo P.\n",
    "p = symbols('p')\n",
    "\n",
    "# Printando a sentença\n",
    "display(f\"{p}: O Céu é azul\")"
   ]
  },
  {
   "cell_type": "markdown",
   "id": "c740ce27",
   "metadata": {},
   "source": [
    "É importante salientar que nem todas as afirmações ou frases podem ser classificadas como proposições. Aqui estão alguns exemplos de coisas que **não** são proposições:\n"
   ]
  },
  {
   "cell_type": "markdown",
   "id": "ecefb71f",
   "metadata": {},
   "source": [
    "<img src=\"https://miro.medium.com/v2/resize:fit:720/format:webp/1*CXnEzJYOotuuoT12BMmreg.png\" alt=\"Não Preposicao\" width = 650 height = 650>"
   ]
  },
  {
   "cell_type": "markdown",
   "id": "115ede5c",
   "metadata": {},
   "source": [
    "## 3.3 Negação\n",
    "\n",
    "A negação de uma proposição é a operação lógica que inverte o seu valor de verdade. Se uma proposição 'p' é **verdadeira**, a sua **negação**, denotada por '~p' ou '**não** p', é **falsa**, e vice-versa.\n",
    "\n",
    "Por exemplo, a afirmação:\n",
    "\n",
    "**p**: 'O céu é azul' \n",
    "\n",
    "Sua negação é:\n",
    "\n",
    "**~p**: 'O céu não é azul' \n",
    "\n",
    "a negação de uma preposição tem suas regras também, e são elas:\n",
    "\n",
    "- **Lei da Dupla Negação**: A negação da negação de uma proposição **P** é equivalente a **P**.\n",
    "    - Ou seja, Matematicamente, $ \\sim(\\sim P) = P $\n",
    "- **Lei da Contradição**:Uma proposição e sua negação não podem ser ambas verdadeiras ao mesmo tempo.\n",
    "    - Matematicamente, $P \\vee \\neg P = \\text{False}$\n",
    "- **Lei do Terceiro Excluído**: Para qualquer proposição $P$, a proposição $P \\vee \\neg P$ é sempre verdadeira.\n",
    "    - Matematicamente, $P \\vee \\neg P = \\text{True}$\n",
    "    \n",
    "Demostrando em Python fica assim:"
   ]
  },
  {
   "cell_type": "code",
   "execution_count": 5,
   "id": "5c9de80c",
   "metadata": {},
   "outputs": [
    {
     "data": {
      "text/plain": [
       "'~p: O Céu não é azul'"
      ]
     },
     "metadata": {},
     "output_type": "display_data"
    }
   ],
   "source": [
    "p = symbols('p')\n",
    "neg_p = Not(p)\n",
    "\n",
    "\n",
    "display(f\"{neg_p}: O Céu não é azul\")"
   ]
  },
  {
   "cell_type": "markdown",
   "id": "beb9342a",
   "metadata": {},
   "source": [
    "## 3.4 Proposições Composta \n",
    "\n",
    "\n",
    "Uma proposição composta é formada pela combinação de duas ou mais proposições simples, utilizando conectivos lógicos como 'e' (conjunção), 'ou' (disjunção), 'se… então…' (condicional) e 'se e somente se' (bicondicional).\n",
    "\n",
    "Antes de irmos para os conectivos lógicos, é importante abordar o conceito de Tabela Verdade."
   ]
  },
  {
   "cell_type": "markdown",
   "id": "3a3730d1",
   "metadata": {},
   "source": [
    "### 3.4.1 Tabela Verdade"
   ]
  },
  {
   "cell_type": "markdown",
   "id": "bbbe8323",
   "metadata": {},
   "source": [
    "A tabela verdade é uma representação tabular que mostra todas as combinações possíveis de valores (Verdadeiro ou Falso) para uma dada proposição composta. \n",
    "\n",
    "É um recurso muito útil para analisar argumentos e expressões lógicas."
   ]
  },
  {
   "cell_type": "markdown",
   "id": "17c14f00",
   "metadata": {},
   "source": [
    "<img src=\"https://miro.medium.com/v2/resize:fit:600/format:webp/1*1WUOlRn8z-OoSoxvqV-dyQ.png\" alt=\"E\" width=230 height = 230>"
   ]
  },
  {
   "cell_type": "markdown",
   "id": "d2313466",
   "metadata": {},
   "source": [
    "### 3.4.2 Conjunção\n",
    "\n",
    "A conjunção de proposições, muitas vezes representada pelo operador lógico \"E\" (∧), é uma operação que combina duas proposições para formar uma nova proposição composta. \n",
    "\n",
    "Vamos chamar as duas proposições de $P$ e $Q$. \n",
    "\n",
    "- A conjunção $P∧Q$ é verdadeira somente quando ambas as proposições $P$ e $Q$ são verdadeiras.  \n",
    "\n",
    "- Se qualquer uma das partes for falsa, a proposição composta também será falsa."
   ]
  },
  {
   "cell_type": "code",
   "execution_count": 6,
   "id": "6c206734",
   "metadata": {
    "scrolled": true
   },
   "outputs": [
    {
     "data": {
      "text/plain": [
       "'p: Maria estuda Matemática.'"
      ]
     },
     "metadata": {},
     "output_type": "display_data"
    },
    {
     "data": {
      "text/plain": [
       "'q: João estuda Física.'"
      ]
     },
     "metadata": {},
     "output_type": "display_data"
    },
    {
     "data": {
      "text/latex": [
       "$\\displaystyle p \\wedge q$"
      ],
      "text/plain": [
       "p & q"
      ]
     },
     "metadata": {},
     "output_type": "display_data"
    },
    {
     "data": {
      "text/plain": [
       "'Maria estuda Matemática E João estuda Física.'"
      ]
     },
     "metadata": {},
     "output_type": "display_data"
    }
   ],
   "source": [
    "p, q = symbols('p q')\n",
    "\n",
    "display(f'{p}: Maria estuda Matemática.')\n",
    "display(f'{q}: João estuda Física.')\n",
    "conj = And(p, q)\n",
    "\n",
    "display(conj, 'Maria estuda Matemática E João estuda Física.')"
   ]
  },
  {
   "cell_type": "markdown",
   "id": "8849317e",
   "metadata": {},
   "source": [
    "### Tabela Verdade Conjunção\n",
    "\n",
    "<img src=\"https://miro.medium.com/v2/resize:fit:600/format:webp/1*1WUOlRn8z-OoSoxvqV-dyQ.png\" alt=\"E\" width=230 height = 230>"
   ]
  },
  {
   "cell_type": "markdown",
   "id": "5b7c3a8e",
   "metadata": {},
   "source": [
    "### 3.4.3 Disjunção\n",
    "\n",
    "A disjunção de proposições, frequentemente representada pelo operador lógico \"OU\" (∨), é uma operação que combina duas proposições para formar uma nova proposição composta. \n",
    "\n",
    "Vamos chamar as duas proposições de $P$ e  $Q$. \n",
    "\n",
    "* A disjunção $P∨Q$ é verdadeira se **pelo menos uma** das proposições $P$ ou $Q$ for **verdadeira**."
   ]
  },
  {
   "cell_type": "code",
   "execution_count": 7,
   "id": "2360ef91",
   "metadata": {},
   "outputs": [
    {
     "data": {
      "text/plain": [
       "'p: O dia está ensolarado.'"
      ]
     },
     "metadata": {},
     "output_type": "display_data"
    },
    {
     "data": {
      "text/plain": [
       "'q: O dia está chuvoso.'"
      ]
     },
     "metadata": {},
     "output_type": "display_data"
    },
    {
     "data": {
      "text/latex": [
       "$\\displaystyle p \\vee q$"
      ],
      "text/plain": [
       "p | q"
      ]
     },
     "metadata": {},
     "output_type": "display_data"
    },
    {
     "data": {
      "text/plain": [
       "'O dia está ensolarado OU chuvoso.'"
      ]
     },
     "metadata": {},
     "output_type": "display_data"
    }
   ],
   "source": [
    "p, q = symbols('p q')\n",
    "\n",
    "display(f'{p}: O dia está ensolarado.')\n",
    "display(f'{q}: O dia está chuvoso.')\n",
    "\n",
    "disj = Or(p, q)\n",
    "\n",
    "\n",
    "\n",
    "display(disj, 'O dia está ensolarado OU chuvoso.')"
   ]
  },
  {
   "cell_type": "markdown",
   "id": "9d4d84d6",
   "metadata": {},
   "source": [
    "### Tabela Verdade Disjunção\n",
    "\n",
    "<img src=\"https://miro.medium.com/v2/resize:fit:600/format:webp/1*hbzpsnSQZYxhNQHdrosuBA.png\" alt=\"OU\" width=230 height = 230>"
   ]
  },
  {
   "cell_type": "markdown",
   "id": "381bd269",
   "metadata": {},
   "source": [
    "### 3.4.4 Condicionais\n",
    "\n",
    "\n",
    "As condicionais de proposições, frequentemente representadas pelo operador lógico \"Se... então...\" (→), são uma forma de implicação lógica. Vamos chamar as duas proposições de $P$ (antecedente) e $Q$ (consequente). \n",
    "\n",
    "A condicional $P→Q$ é uma afirmação que estabelece uma relação entre as duas proposições da seguinte maneira: se $P$ for verdadeiro, então $Q$ também é verdadeiro."
   ]
  },
  {
   "cell_type": "markdown",
   "id": "91089ada",
   "metadata": {},
   "source": [
    "**Lei do Modus Ponens**:\n",
    "\n",
    "- Se $P→Q$ é verdadeiro e $P$ é verdadeiro, então podemos concluir que $Q$ também é verdadeiro.\n",
    "\n",
    "**Lei do Silogismo Hipotético**:\n",
    "- Se $P→Q$ e $Q→R$ são ambos verdadeiros, então podemos concluir que $P→R$ é verdadeiro.\n",
    "\n",
    "**Contrapositiva**:\n",
    "- A contrapositiva de $P→Q$ é $¬Q→¬P$.Se a contrapositiva é verdadeira, então a condicional original também é verdadeira."
   ]
  },
  {
   "cell_type": "markdown",
   "id": "175cc18a",
   "metadata": {},
   "source": [
    "Vamos a um exemplo de Condicionais em Python:"
   ]
  },
  {
   "cell_type": "code",
   "execution_count": 8,
   "id": "c888763c",
   "metadata": {
    "scrolled": true
   },
   "outputs": [
    {
     "data": {
      "text/plain": [
       "'p: Está chovendo.'"
      ]
     },
     "metadata": {},
     "output_type": "display_data"
    },
    {
     "data": {
      "text/plain": [
       "'q: Usarei um guarda-chuva.'"
      ]
     },
     "metadata": {},
     "output_type": "display_data"
    },
    {
     "name": "stdout",
     "output_type": "stream",
     "text": [
      "A preposição condicional\n"
     ]
    },
    {
     "data": {
      "text/latex": [
       "$\\displaystyle p \\Rightarrow q$"
      ],
      "text/plain": [
       "Implies(p, q)"
      ]
     },
     "metadata": {},
     "output_type": "display_data"
    },
    {
     "data": {
      "text/plain": [
       "'SE está chovendo ENTÃO usarei um a guarda-chuva.'"
      ]
     },
     "metadata": {},
     "output_type": "display_data"
    }
   ],
   "source": [
    "# Defina as variáveis simbólicas\n",
    "p, q = symbols('p q')\n",
    "\n",
    "\n",
    "display(f'{p}: Está chovendo.')\n",
    "display(f'{q}: Usarei um guarda-chuva.')\n",
    "\n",
    "# Crie uma preposição condicional usando Implies\n",
    "preposicao_condicional = Implies(p, q)\n",
    "\n",
    "# Imprima o resultado\n",
    "print(\"A preposição condicional\") \n",
    "\n",
    "display(preposicao_condicional, 'SE está chovendo ENTÃO usarei um a guarda-chuva.')"
   ]
  },
  {
   "cell_type": "markdown",
   "id": "093fedf8",
   "metadata": {},
   "source": [
    "### Tabela Verdade Condicionais\n",
    "\n",
    "<img src=\"https://miro.medium.com/v2/resize:fit:600/format:webp/1*TgVp67AHCuQ6ZdpHRahvBg.png\" alt=\"SE ENTAO\" width=230 height = 230>"
   ]
  },
  {
   "cell_type": "markdown",
   "id": "8e81de9e",
   "metadata": {},
   "source": [
    "### 3.4.5 Bicondicionais\n",
    "\n",
    "Uma proposição bicondicional, frequentemente denotada por $P↔Q$ expressa uma relação \"se e somente se\" entre duas proposições $P$ e $Q$. A proposição bicondicional é verdadeira se ambas $P$ e $Q$ tiverem os mesmos valores de verdade (ambas verdadeiras ou ambas falsas), e falsa em todos os outros casos.\n",
    "\n",
    "$p↔q≡(p→q)∧(q→p)$"
   ]
  },
  {
   "cell_type": "code",
   "execution_count": 9,
   "id": "f4c8f01a",
   "metadata": {},
   "outputs": [
    {
     "data": {
      "text/plain": [
       "'p: O número é positivo'"
      ]
     },
     "metadata": {},
     "output_type": "display_data"
    },
    {
     "data": {
      "text/plain": [
       "'q: O número é maior que zero.'"
      ]
     },
     "metadata": {},
     "output_type": "display_data"
    },
    {
     "name": "stdout",
     "output_type": "stream",
     "text": [
      "A preposição Bicondicional\n"
     ]
    },
    {
     "data": {
      "text/latex": [
       "$\\displaystyle p \\Leftrightarrow q$"
      ],
      "text/plain": [
       "Equivalent(p, q)"
      ]
     },
     "metadata": {},
     "output_type": "display_data"
    },
    {
     "data": {
      "text/plain": [
       "'O número é positivo se e somente se o número é maior que zero.'"
      ]
     },
     "metadata": {},
     "output_type": "display_data"
    }
   ],
   "source": [
    "# Defina as variáveis simbólicas\n",
    "p, q = symbols('p q')\n",
    "\n",
    "\n",
    "display(f'{p}: O número é positivo')\n",
    "display(f'{q}: O número é maior que zero.')\n",
    "\n",
    "bicondicional = Equivalent(p, q)\n",
    "\n",
    "# Imprima o resultado\n",
    "print(\"A preposição Bicondicional\") \n",
    "\n",
    "display(bicondicional, 'O número é positivo se e somente se o número é maior que zero.')"
   ]
  },
  {
   "cell_type": "markdown",
   "id": "87e158f8",
   "metadata": {},
   "source": [
    "### Tabela Verdade Bicondicional\n",
    "\n",
    "<img src=\"https://miro.medium.com/v2/resize:fit:600/format:webp/1*DHJ6hVpHc_cMWbv3LJ06Og.png\" alt=\"SOMENTE\" width=230 height = 230>"
   ]
  },
  {
   "cell_type": "markdown",
   "id": "cd4136b8",
   "metadata": {},
   "source": [
    "## 3.5 Tautologias\n",
    "\n",
    "Uma tautologia é uma proposição composta que é sempre verdadeira, independentemente do valor de verdade das proposições que a compõem. \n",
    "\n",
    "Em outras palavras, uma tautologia é uma expressão lógica que é verdadeira em todas as situações possíveis.\n",
    "\n",
    "Para verificar se uma proposição é uma tautologia, você pode construir a sua tabela verdade correspondente. Se, em todas as linhas da tabela, a proposição resultar em \"verdadeiro\" (V), então ela é considerada uma tautologia.'"
   ]
  },
  {
   "cell_type": "code",
   "execution_count": 10,
   "id": "17a10da3",
   "metadata": {
    "scrolled": true
   },
   "outputs": [
    {
     "name": "stdout",
     "output_type": "stream",
     "text": [
      "Tautologia\n"
     ]
    },
    {
     "data": {
      "text/latex": [
       "$\\displaystyle \\left(p \\Rightarrow q\\right) \\vee \\left(p \\Rightarrow \\neg q\\right)$"
      ],
      "text/plain": [
       "(Implies(p, q)) | (Implies(p, ~q))"
      ]
     },
     "metadata": {},
     "output_type": "display_data"
    }
   ],
   "source": [
    "p, q = symbols('p q')\n",
    "\n",
    "\n",
    "tautology = Implies(p, q) | Implies(p, Not(q))\n",
    "\n",
    "\n",
    "# Imprima o resultado\n",
    "print(\"Tautologia\") \n",
    "\n",
    "display(tautology)"
   ]
  },
  {
   "cell_type": "markdown",
   "id": "b65b0fe5",
   "metadata": {},
   "source": [
    "### Tabela Verdade Tautologia \n",
    "\n",
    "\n",
    "<img src=\"https://miro.medium.com/v2/resize:fit:600/format:webp/1*H4aFIPQxAB1t8nWXLlI1Eg.png\" alt=\"Tautologia\" width=230 height = 230>"
   ]
  },
  {
   "cell_type": "markdown",
   "id": "67ea566e",
   "metadata": {},
   "source": [
    "## 3.6 Leis de Morgan\n",
    "\n",
    "As leis de Morgan são um conjunto de regras na lógica matemática que fornecem uma forma de expressar negações de proposições compostas. As leis de Morgan são duas:\n",
    "\n",
    "1. Primeira Lei de Morgan:A negação de uma conjunção é equivalente à disjunção das negações das proposições individuais.\n",
    "\n",
    "$¬(p∧q)=(¬p)∨(¬q)$\n",
    "\n",
    "\n",
    "2. Segunda Lei de Morgan: A negação de uma disjunção é equivalente à conjunção das negações das proposições individuais.\n",
    "\n",
    "$¬(p∨q)=(¬p)∧(¬q)$\n"
   ]
  },
  {
   "cell_type": "markdown",
   "id": "afbc7d6c",
   "metadata": {},
   "source": [
    "## 3.7 Tabela Verdade em Python"
   ]
  },
  {
   "cell_type": "markdown",
   "id": "d5c3d337",
   "metadata": {},
   "source": [
    "Uma forma maneira de criar tabelas verdade utilizando Python é através da biblioteca 'truth-table-generator'. Ela permite gerar a tabela verdade de uma proposição com apenas algumas linhas de código e uma sintaxe simples.\n",
    "\n",
    "Os operações são:"
   ]
  },
  {
   "cell_type": "markdown",
   "id": "2533d1f4",
   "metadata": {},
   "source": [
    "Operadores e suas representações:\n",
    "\n",
    "* **Negação**: 'not', '-', '~'\n",
    "* **Disjunção lógica**: 'or'\n",
    "* **NOR lógico**: 'nor'\n",
    "* **Disjunção exclusiva**: 'xor', '!='\n",
    "* **Conjunção lógica**: 'and'\n",
    "* **NAND lógico**: 'nand'\n",
    "* **Implicação material**: '=>', 'implies'\n",
    "* **Bicondicional lógico**: '='"
   ]
  },
  {
   "cell_type": "markdown",
   "id": "7b4bb0a4",
   "metadata": {},
   "source": [
    "Vamos a um exemplo simples, a tabela verdade de $P ∧ Q$"
   ]
  },
  {
   "cell_type": "code",
   "execution_count": 11,
   "id": "ef70532c",
   "metadata": {},
   "outputs": [],
   "source": [
    "# pip install truth-table-generator"
   ]
  },
  {
   "cell_type": "code",
   "execution_count": 12,
   "id": "4af0e09f",
   "metadata": {},
   "outputs": [
    {
     "name": "stdout",
     "output_type": "stream",
     "text": [
      "+-------+-------+-----------+\n",
      "|   p   |   q   |  p and q  |\n",
      "|-------+-------+-----------|\n",
      "| True  | True  |   True    |\n",
      "| True  | False |   False   |\n",
      "| False | True  |   False   |\n",
      "| False | False |   False   |\n",
      "+-------+-------+-----------+\n"
     ]
    }
   ],
   "source": [
    "# Importando Biblioteca\n",
    "import ttg\n",
    "\n",
    "# Imprimindo Tabela Verdade\n",
    "print(ttg.Truths(['p', 'q'], ['p and q'], ints=False))"
   ]
  },
  {
   "cell_type": "markdown",
   "id": "b5e3876f",
   "metadata": {},
   "source": [
    "Outros Exemplo, agora incluindo a disjunção:"
   ]
  },
  {
   "cell_type": "code",
   "execution_count": 13,
   "id": "a6d8ab64",
   "metadata": {
    "scrolled": true
   },
   "outputs": [
    {
     "name": "stdout",
     "output_type": "stream",
     "text": [
      "+-------+-------+----------+-----------+\n",
      "|   p   |   q   |  p or q  |  p and q  |\n",
      "|-------+-------+----------+-----------|\n",
      "| True  | True  |   True   |   True    |\n",
      "| True  | False |   True   |   False   |\n",
      "| False | True  |   True   |   False   |\n",
      "| False | False |  False   |   False   |\n",
      "+-------+-------+----------+-----------+\n"
     ]
    }
   ],
   "source": [
    "print(ttg.Truths(['p', 'q'], ['p or q', 'p and q'], ints=False))"
   ]
  },
  {
   "cell_type": "markdown",
   "id": "ff50dca0",
   "metadata": {},
   "source": [
    "Podemos unir o Sympy com a Truth Table Generator, como no exemplo abaixo:"
   ]
  },
  {
   "cell_type": "markdown",
   "id": "eed82498",
   "metadata": {},
   "source": [
    "> \"Se for um dia ensolarado (p) e eu tiver tempo livre (q), então irei à praia (r) ou farei um piquenique (s), mas não farei ambos.\""
   ]
  },
  {
   "cell_type": "code",
   "execution_count": 14,
   "id": "ec904c2f",
   "metadata": {
    "scrolled": false
   },
   "outputs": [
    {
     "data": {
      "text/plain": [
       "'p: Se for um dia ensolarado.'"
      ]
     },
     "metadata": {},
     "output_type": "display_data"
    },
    {
     "data": {
      "text/plain": [
       "'q: e eu tiver tempo livre'"
      ]
     },
     "metadata": {},
     "output_type": "display_data"
    },
    {
     "data": {
      "text/plain": [
       "'r: então irei à praia'"
      ]
     },
     "metadata": {},
     "output_type": "display_data"
    },
    {
     "data": {
      "text/plain": [
       "'s: ou farei um piquenique'"
      ]
     },
     "metadata": {},
     "output_type": "display_data"
    },
    {
     "name": "stdout",
     "output_type": "stream",
     "text": [
      "\n",
      " Preposição completa\n"
     ]
    },
    {
     "data": {
      "text/latex": [
       "$\\displaystyle \\left(p \\wedge q\\right) \\Rightarrow \\left(\\neg \\left(r \\wedge s\\right) \\wedge \\left(r \\vee s\\right)\\right)$"
      ],
      "text/plain": [
       "Implies(p & q, (r | s) & ~(r & s))"
      ]
     },
     "metadata": {},
     "output_type": "display_data"
    },
    {
     "data": {
      "text/plain": [
       "'Se for um dia ensolarado e eu tiver tempo livre, então irei à praia ou farei um piquenique, mas não farei ambos.'"
      ]
     },
     "metadata": {},
     "output_type": "display_data"
    },
    {
     "name": "stdout",
     "output_type": "stream",
     "text": [
      "\n",
      " Tabela Verdade:\n",
      "+-------+-------+-------+-------+------------+----------+----------+-------------------------------------------------+\n",
      "|   p   |   q   |   r   |   s   |  (p => q)  |  r or s  |  r => s  |  (p and q) implies ((r and s) and not(r or s))  |\n",
      "|-------+-------+-------+-------+------------+----------+----------+-------------------------------------------------|\n",
      "| True  | True  | True  | True  |    True    |   True   |   True   |                      False                      |\n",
      "| True  | True  | True  | False |    True    |   True   |  False   |                      False                      |\n",
      "| True  | True  | False | True  |    True    |   True   |   True   |                      False                      |\n",
      "| True  | True  | False | False |    True    |  False   |   True   |                      False                      |\n",
      "| True  | False | True  | True  |   False    |   True   |   True   |                      True                       |\n",
      "| True  | False | True  | False |   False    |   True   |  False   |                      True                       |\n",
      "| True  | False | False | True  |   False    |   True   |   True   |                      True                       |\n",
      "| True  | False | False | False |   False    |  False   |   True   |                      True                       |\n",
      "| False | True  | True  | True  |    True    |   True   |   True   |                      True                       |\n",
      "| False | True  | True  | False |    True    |   True   |  False   |                      True                       |\n",
      "| False | True  | False | True  |    True    |   True   |   True   |                      True                       |\n",
      "| False | True  | False | False |    True    |  False   |   True   |                      True                       |\n",
      "| False | False | True  | True  |    True    |   True   |   True   |                      True                       |\n",
      "| False | False | True  | False |    True    |   True   |  False   |                      True                       |\n",
      "| False | False | False | True  |    True    |   True   |   True   |                      True                       |\n",
      "| False | False | False | False |    True    |  False   |   True   |                      True                       |\n",
      "+-------+-------+-------+-------+------------+----------+----------+-------------------------------------------------+\n"
     ]
    }
   ],
   "source": [
    "# Definindo as variáveis simbólicas\n",
    "p, q, r, s = symbols('p q r s')\n",
    "\n",
    "# Printando sentenças\n",
    "display(f'{p}: Se for um dia ensolarado.')\n",
    "display(f'{q}: e eu tiver tempo livre')\n",
    "display(f'{r}: então irei à praia')\n",
    "display(f'{s}: ou farei um piquenique')\n",
    "\n",
    "\n",
    "# Realizando Calculo\n",
    "prep = Implies(And(p, q), And(Or(r, s), Not(And(r, s))))\n",
    "\n",
    "print('\\n Preposição completa')\n",
    "# Pritando Preposição completa\n",
    "display(prep, 'Se for um dia ensolarado e eu tiver tempo livre, então irei à praia ou farei um piquenique, mas não farei ambos.')\n",
    "\n",
    "# Tabela Verdade\n",
    "print('\\n Tabela Verdade:')\n",
    "print(ttg.Truths(['p', 'q','r','s'], ['(p => q)', 'r or s', 'r => s', '(p and q) implies ((r and s) and not(r or s))'], ints=False))"
   ]
  },
  {
   "cell_type": "markdown",
   "id": "19705bfa",
   "metadata": {},
   "source": [
    "## 4.0 Portas Lógicas — O Legado de George Boole\n",
    "\n",
    "O impacto das ideias de Boole não foram compreendidas até cerca de sete décadas após sua morte.\n",
    "\n",
    "O engenheiro americano Claude Shannon utilizou a “Análise Matemática da Lógica” de Boole para estabelecer os fundamentos dos circuitos de computadores digitais modernos.\n",
    "\n",
    "Ele percebeu que o sistema binário de dois valores de Boole poderia servir como a base para portas lógicas, dispositivos físicos que operam com base em funções booleanas, no circuito.\n",
    "\n",
    "Abaixo, a relação entre os Circuítos Lógicas e a Tabela Verdade:"
   ]
  },
  {
   "cell_type": "markdown",
   "id": "67dcad53",
   "metadata": {},
   "source": [
    "<p align=\"center\">\n",
    "    <img src=\"https://miro.medium.com/v2/resize:fit:720/format:webp/1*Qrptffsgg58_qQa3lmiysA.png\" alt=\"Tautologia\">\n",
    "</p>\n"
   ]
  }
 ],
 "metadata": {
  "kernelspec": {
   "display_name": "Python 3 (ipykernel)",
   "language": "python",
   "name": "python3"
  },
  "language_info": {
   "codemirror_mode": {
    "name": "ipython",
    "version": 3
   },
   "file_extension": ".py",
   "mimetype": "text/x-python",
   "name": "python",
   "nbconvert_exporter": "python",
   "pygments_lexer": "ipython3",
   "version": "3.11.5"
  }
 },
 "nbformat": 4,
 "nbformat_minor": 5
}
