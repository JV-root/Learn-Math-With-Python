{
 "cells": [
  {
   "cell_type": "markdown",
   "metadata": {},
   "source": [
    "# 1. Introdução\n",
    "\n",
    "Fala, pessoal! Estou empolgadíssimo em fazer minha primeira publicação no Medium, e para o tópico inaugural, decidi abordar algo que sempre me causou dificuldades: Matemática!\n",
    "\n",
    "Resumindo a minha trajetória, desde os primeiros anos da escola, a matemática e eu éramos quase como água e óleo. Cada equação e teorema pareciam o fim do mundo (nada exagerado, não? hahahahaha), e essa dificuldade só crescia com o passar do tempo gerando uma ansiedade só de ter que fazer uma conta de cabeça.\n",
    "\n",
    "No entanto, tudo começou a mudar quando me apaixonei pela Estatística e Ciência de Dados e, curiosamente, quando me deparei com um livro que mudaria o jogo para mim: “O Livro da Matemática”. Esse livro não é como os livros maçante de matemática; ele é repleto de ilustrações didáticas e com explicações de forma clara e envolvente."
   ]
  },
  {
   "cell_type": "markdown",
   "metadata": {},
   "source": [
    "\n",
    "\n",
    "<div align=\"center\">\n",
    "    <img src=\"https://livrariaflorence.fbitsstatic.net/img/p/livro-o-livro-da-matematica-kindersley-216519/402870.jpg?w=660&h=660&v=no-change&qs=ignore\" alt=\"O Livro da Matemática\" width=\"250px\">\n",
    "</div>"
   ]
  },
  {
   "cell_type": "markdown",
   "metadata": {},
   "source": [
    "E foi aí que começou a mágica: A matemática, antes um gerador de ansiedade, passou a se transformar em um fascinante quebra-cabeça esperando para ser resolvido, quase como um Tetris. A matemática aplicada, especialmente na Estatística e Ciência de Dados, revelou uma nova dimensão para mim, uma em que eu podia ver a beleza das fórmulas e dos números.\n",
    "\n",
    "Desde então, venho estudando matemática e pensando em como compartilhar tudo que venho aprendendo, e qual seria a melhor maneira de fazer isso se não demonstrando com Python, uma linguagem de programação incrível, e amplamente utilizada na área de dados?\n",
    "\n",
    "Para dar início à nossa série, vamos começar pelo básico: Aritmética!"
   ]
  },
  {
   "cell_type": "markdown",
   "metadata": {},
   "source": [
    "## 2. Aritmética\n",
    "\n",
    "Basicamente, as operações aritméticas, fundamentais nas equações matemáticas, têm uma história que remonta a tempos antigos, evidenciada pelo Papiro de Rhind, datado por volta de 1550 a.C. Nesse manuscrito egípcio, registram-se as operações básicas como adição, subtração e multiplicação, destacando a importância desses conceitos desde os primórdios da matemática."
   ]
  },
  {
   "cell_type": "markdown",
   "metadata": {},
   "source": [
    "\n",
    "\n",
    "<div align=\"center\">\n",
    "    <img src=\"https://encrypted-tbn0.gstatic.com/images?q=tbn:ANd9GcRlnB2gyGOc0oYeU800hgqC4dT7H5QI_Vp4JQ&usqp=CAU\" alt=\"O Livro da Matemática\" width=\"250px\">\n",
    "</div>"
   ]
  },
  {
   "cell_type": "markdown",
   "metadata": {},
   "source": [
    "### 2.1 Operações Aritméticas\n",
    "\n",
    "### 2.2 Adição\n",
    "\n",
    "Do mesmo modo que aprendemos na matemática do ensino fundamental, em Python, utilizamos o sinal (+) para realizar a adição de dois números ou mesmo de duas variáveis contendo valores quaisquer. Veja o exemplo abaixo:"
   ]
  },
  {
   "cell_type": "code",
   "execution_count": 3,
   "metadata": {},
   "outputs": [
    {
     "name": "stdout",
     "output_type": "stream",
     "text": [
      "A soma de 5 e 7 é: 12\n"
     ]
    }
   ],
   "source": [
    "# Somando dois números inteiros\n",
    "1 + 1 \n",
    "\n",
    "# Somando dois números Reais\n",
    "7.5 + 2.7\n",
    "\n",
    "# Atribuindo o valor 5 à variável a\n",
    "a = 5\n",
    "\n",
    "# Atribuindo o valor 7 à variável b\n",
    "b = 7\n",
    "\n",
    "# Somando as duas variáveis e exibindo o resultado\n",
    "print(f'A soma de {a} e {b} é: {a + b}')"
   ]
  },
  {
   "cell_type": "markdown",
   "metadata": {},
   "source": [
    "### 2.3 Subtração\n",
    "\n",
    "O procedimento é semelhante para a subtração, empregando o sinal (-) para subtrair um valor de outro. Veja o exemplo:"
   ]
  },
  {
   "cell_type": "code",
   "execution_count": 4,
   "metadata": {},
   "outputs": [
    {
     "name": "stdout",
     "output_type": "stream",
     "text": [
      "A subtração de 10 e 7 é: 3\n"
     ]
    }
   ],
   "source": [
    "# Subtraindo dois números inteiros\n",
    "6 - 3 \n",
    "\n",
    "# Substraindo dois números Reais\n",
    "20.5 - 4.9\n",
    "\n",
    "# Atribuindo o valor 10 à variável a\n",
    "a = 10\n",
    "\n",
    "# Atribuindo o valor 7 à variável b\n",
    "b = 7\n",
    "\n",
    "\n",
    "# Subtraindo as duas variáveis e exibindo o resultado\n",
    "print(f'A subtração de {a} e {b} é: {a - b}')"
   ]
  },
  {
   "cell_type": "markdown",
   "metadata": {},
   "source": [
    "### 2.4 Multiplicação\n",
    "\n",
    "A representação da multiplicação em Python é diferente do que aprendemos no ensino fundamental, onde costumamos usar a letra (X) ou, até mesmo em algumas linguagens de programação, onde se usa o símbolo (^). Em vez disso, em Python, a multiplicação é representada pelo asterisco (*). Vejamos os exemplos:"
   ]
  },
  {
   "cell_type": "code",
   "execution_count": 5,
   "metadata": {},
   "outputs": [
    {
     "name": "stdout",
     "output_type": "stream",
     "text": [
      "A multiplicação de 4 e 12 é: 48\n"
     ]
    }
   ],
   "source": [
    "# Multiplicando dois números inteiros\n",
    "2 * 6 \n",
    "\n",
    "# Multiplicando dois números Reais\n",
    "5.1 * 2\n",
    "\n",
    "# Atribuindo o valor 4 à variável a\n",
    "a = 4\n",
    "\n",
    "# Atribuindo o valor 12 à variável b\n",
    "b = 12\n",
    "\n",
    "# Multiplicando as duas variáveis e exibindo o resultado\n",
    "print(f'A multiplicação de {a} e {b} é: {a * b}')"
   ]
  },
  {
   "cell_type": "markdown",
   "metadata": {},
   "source": [
    "### 2.5 Divisão\n",
    "\n",
    "O operador de divisão é representado pela barra inclinada para a direita (/). Exemplo:"
   ]
  },
  {
   "cell_type": "code",
   "execution_count": 6,
   "metadata": {},
   "outputs": [
    {
     "name": "stdout",
     "output_type": "stream",
     "text": [
      "A divisão de 12 e 2 é: 6.0\n"
     ]
    }
   ],
   "source": [
    "# Dividindo dois números inteiros\n",
    "14 / 4 \n",
    "\n",
    "# Dividindo dois números Reais\n",
    "20.5 / 4.1\n",
    "\n",
    "# Atribuindo o valor 12 à variável a\n",
    "a = 12\n",
    "\n",
    "# Atribuindo o valor 2 à variável b\n",
    "b = 2\n",
    "\n",
    "# Dividindo as duas variáveis e exibindo o resultado\n",
    "print(f'A divisão de {a} e {b} é: {a / b}')"
   ]
  },
  {
   "cell_type": "markdown",
   "metadata": {},
   "source": [
    "## 2.5.1 Resto da Divisão\n",
    "\n",
    "O resto da divisão, muitas vezes denotado pelo símbolo %, é o valor que permanece quando um número não é completamente divisível por outro. Em outras palavras, se você dividir um número a por outro número b, o resto da divisão é o que sobra."
   ]
  },
  {
   "cell_type": "code",
   "execution_count": null,
   "metadata": {},
   "outputs": [],
   "source": [
    "# Atribuindo o valor de 31 à variável a\n",
    "a = 31\n",
    "\n",
    "# Atribuindo o valor de 3 à variável b\n",
    "b = 6\n",
    "\n",
    "# Dividindo as duas variáveis e exibindo o resultado\n",
    "print(f'A divisão de {a} e {b} é: {a / b}')"
   ]
  },
  {
   "cell_type": "markdown",
   "metadata": {},
   "source": [
    "## 3.0 Conjuntos Numéricos\n",
    "\n",
    "Um outro tema que considero de suma importância para os fundamentos de matemática são os Conjuntos Numéricos, que basicamente consistem em agrupamentos de números com características em comuns.\n",
    "\n",
    "No contexto de Python, encontramos diversos tipos desses conjuntos, com destaque para o conjunto dos números inteiros (representados como “int”) e o conjunto dos números reais (denominados como “float”). Em um outro artigo irei abordar como que o Python lida com números por baixo dos panos.\n",
    "\n",
    "Os números inteiros abrangem tanto os positivos quanto os negativos, incluindo o zero. Por outro lado, os números reais englobam aqueles que podem ser expressos como frações, onde tanto o numerador quanto o denominador são números inteiros.\n",
    "\n",
    "Existem diversos tipos de conjuntos numéricos, mas neste artigo, meu foco principal será nas operações envolvendo esses conjuntos. \n",
    "\n",
    "No entanto, deixo disponível o [seguinte link ](https://brasilescola.uol.com.br/o-que-e/matematica/o-que-sao-conjuntos-numericos.htm)que contém uma explicação detalhada sobre cada um deles.\n",
    "\n",
    "\n",
    "\n"
   ]
  },
  {
   "cell_type": "markdown",
   "metadata": {},
   "source": [
    "### 3.1 Sympy\n",
    "\n",
    "Para realizar as principais operações de conjuntos em Python, podemos utilizar a função integrada Set. Porém, eu iriei demonstrar uma abordagem alternativa utilizando a biblioteca Sympy.\n",
    "\n",
    "O Sympy é uma biblioteca em Python voltada para álgebra simbólica. Ao contrário da computação numérica, que lida com valores numéricos, a álgebra simbólica manipula expressões matemáticas de forma simbólica, preservando variáveis como símbolos em vez de substituir por valores específicos.\n",
    "\n",
    "Com o Sympy, você pode realizar operações algébricas, resolver equações, simplificar expressões, calcular derivadas e integrais, entre outras tarefas, mantendo os resultados em termos de símbolos matemáticos.\n",
    "\n",
    "Antes de tudo, precisamos nos certificar se o Sympy está instalado. Caso não tenha, você pode instalar utilizando o pip em seu terminal:"
   ]
  },
  {
   "cell_type": "markdown",
   "metadata": {},
   "source": []
  },
  {
   "cell_type": "code",
   "execution_count": null,
   "metadata": {},
   "outputs": [],
   "source": [
    "pip install sympy"
   ]
  },
  {
   "cell_type": "markdown",
   "metadata": {},
   "source": [
    "Após a instalação, importe o Sympy em seu script ou ambiente de desenvolvimento favorito, eu recomendo o Jupyter Notebook:"
   ]
  },
  {
   "cell_type": "code",
   "execution_count": 7,
   "metadata": {},
   "outputs": [],
   "source": [
    "import sympy as sp"
   ]
  },
  {
   "cell_type": "markdown",
   "metadata": {},
   "source": [
    "Pronto! Agora podemos utilizar as principais funcionalidades da biblioteca Sympy!\n",
    "\n",
    "### 3.2 O Diagrama de Venn\n",
    "\n",
    "Antes de irmos para as operações, assim como com aritmética, lá vai um pouco de história:\n",
    "\n",
    "Em 1880, o matemático britânico John Venn apresentou a ideia do diagrama de Venn no artigo “On the Diagrammatic and Mechanical Representation of Propositions and Reasonings” [Sobre a representação diagramática e mecânica de proposições e raciocínios]. O diagrama de Venn é um modo de agrupar coisas em cículos (ou outras formas curvas) sobrepostos para mostrar a relação entre eles.\n",
    "\n"
   ]
  },
  {
   "cell_type": "markdown",
   "metadata": {},
   "source": [
    "\n",
    "<div align=\"center\">\n",
    "    <img src=\"https://miro.medium.com/v2/resize:fit:388/format:webp/1*Z3fbV3fIT-E5fiDfkyBjhw.jpeg\" alt=\"O Livro da Matemática\">\n",
    "</div>"
   ]
  },
  {
   "cell_type": "markdown",
   "metadata": {},
   "source": [
    "O diagrama de Venn pode ser usado (dentre outras funcionalidades) para representar as operações de conjuntos. Por exemplo, a união de dois conjuntos A e B pode ser representada por um diagrama de Venn com dois círculos, onde cada círculo representa um conjunto."
   ]
  },
  {
   "cell_type": "markdown",
   "metadata": {},
   "source": [
    "\n",
    "\n",
    "\n",
    "<div align=\"center\">\n",
    "    <img src=\"https://miro.medium.com/v2/resize:fit:640/format:webp/1*9gr4CkKF8aDl4z1P7q5WCA.png\" alt=\"O Livro da Matemática\">\n",
    "</div>"
   ]
  },
  {
   "cell_type": "markdown",
   "metadata": {},
   "source": [
    "### 3.3 Operações com Conjuntos\n",
    "\n",
    "Explorando as operações fundamentais de conjuntos, neste artigo irei focar nas quatro principais operações, cuja descrição encontra-se ilustrada na imagem a seguir:"
   ]
  },
  {
   "cell_type": "markdown",
   "metadata": {},
   "source": [
    "\n",
    "\n",
    "\n",
    "\n",
    "<div align=\"center\">\n",
    "    <img src=\"https://miro.medium.com/v2/resize:fit:720/format:webp/1*KCLW7pjlXHjWawjseprOow.png\" alt=\"O Livro da Matemática\">\n",
    "</div>"
   ]
  },
  {
   "cell_type": "markdown",
   "metadata": {},
   "source": [
    "O diagrama de Venn é uma ferramenta visual bem interessante que pode ser usada para representar conjuntos numéricos e suas operações.\n",
    "\n",
    "### 3.4 União\n",
    "A operação de união em conjuntos numéricos é uma forma de combinar todos os elementos distintos de dois conjuntos em um único conjunto. Se tivermos dois conjuntos A e B, a união deles, denotada por A∪B, consiste em todos os elementos que pertencem a pelo menos um dos conjuntos.\n",
    "\n",
    "Aplicando em Python:"
   ]
  },
  {
   "cell_type": "code",
   "execution_count": 8,
   "metadata": {},
   "outputs": [
    {
     "name": "stdout",
     "output_type": "stream",
     "text": [
      "União de A e B: {1, 2, 3, 4, 5, 6, 7, 8, 9, 10}\n"
     ]
    }
   ],
   "source": [
    "import sympy as sp\n",
    "\n",
    "# Definindo Conjuntos\n",
    "A = sp.FiniteSet(1, 2, 3, 4, 5)\n",
    "B = sp.FiniteSet(6, 7, 8, 9, 10)\n",
    "\n",
    "# União\n",
    "union_set = A.union(B)\n",
    "print(f'União de A e B: {union_set}')\n",
    "\n"
   ]
  },
  {
   "cell_type": "markdown",
   "metadata": {},
   "source": [
    "Representação em Diagrama de Venn:\n",
    "\n",
    "\n",
    "\n",
    "\n",
    "\n",
    "<div align=\"center\">\n",
    "    <img src=\"https://miro.medium.com/v2/resize:fit:640/format:webp/1*ZVAzHwqMq5HKrOckiNvYsQ.png\">\n",
    "</div>"
   ]
  },
  {
   "cell_type": "markdown",
   "metadata": {},
   "source": [
    "### 3.5 Intersecção\n",
    "\n",
    "A interseção em conjuntos numéricos é uma operação que envolve encontrar os elementos comuns a dois ou mais conjuntos. Pense nos conjuntos como grupos de números. \n",
    "\n",
    "Se você tem dois conjuntos, A e B, a interseção deles, denotada por A ∩ B, é o conjunto de todos os elementos que pertencem tanto a A quanto a B.\n",
    "\n",
    "Aplicando em Python:"
   ]
  },
  {
   "cell_type": "code",
   "execution_count": 9,
   "metadata": {},
   "outputs": [
    {
     "name": "stdout",
     "output_type": "stream",
     "text": [
      "Interseção de A e B: {4, 5}\n"
     ]
    }
   ],
   "source": [
    "# Definindo Conjuntos\n",
    "A = sp.FiniteSet(1, 2, 3, 4, 5)\n",
    "B = sp.FiniteSet(4, 5, 6, 7, 8)\n",
    "\n",
    "# Interseção\n",
    "intersection_set = A.intersect(B)\n",
    "print(f'Interseção de A e B: {intersection_set}')"
   ]
  },
  {
   "cell_type": "markdown",
   "metadata": {},
   "source": [
    "Representação em Diagrama de Venn:\n",
    "\n",
    "\n",
    "<div align=\"center\">\n",
    "    <img src=\"https://miro.medium.com/v2/resize:fit:640/format:webp/1*3-JKRgf5BYlkilQGSZ0GRw.png\">\n",
    "</div>"
   ]
  },
  {
   "cell_type": "markdown",
   "metadata": {},
   "source": [
    "### 3.6 Diferença\n",
    "\n",
    "A diferença entre conjuntos numéricos é uma operação que resulta em um conjunto contendo todos os elementos de um conjunto (A) que não estão presentes em outro conjunto (B). Pode ser denotada por A−B ou A\\B.\n",
    "\n",
    "Aplicando em Python:"
   ]
  },
  {
   "cell_type": "code",
   "execution_count": 10,
   "metadata": {},
   "outputs": [
    {
     "name": "stdout",
     "output_type": "stream",
     "text": [
      "Diferença de A - B: {1, 2, 3}\n",
      "Diferença de B - A: {6, 7, 8}\n"
     ]
    }
   ],
   "source": [
    "# Definindo Conjuntos\n",
    "A = sp.FiniteSet(1, 2, 3, 4, 5)\n",
    "B = sp.FiniteSet(4, 5, 6, 7, 8)\n",
    "\n",
    "# Diferença A - B\n",
    "difference_set = A - B\n",
    "\n",
    "# Diferença de B - A\n",
    "difference_set2 = B - A\n",
    "\n",
    "print(f'Diferença de A - B: {difference_set}')\n",
    "print(f'Diferença de B - A: {difference_set2}')"
   ]
  },
  {
   "cell_type": "markdown",
   "metadata": {},
   "source": [
    "Representação em Diagrama de Venn:"
   ]
  },
  {
   "cell_type": "markdown",
   "metadata": {},
   "source": [
    "\n",
    "\n",
    "\n",
    "<div align=\"center\">\n",
    "    <img src=\"https://miro.medium.com/v2/resize:fit:640/format:webp/1*2p3_GAVdgiEnJjqrTgujPg.png\">\n",
    "</div>"
   ]
  },
  {
   "cell_type": "markdown",
   "metadata": {},
   "source": [
    "### 3.6 Diferença Simétrica\n",
    "\n",
    "A diferença simétrica entre dois conjuntos numéricos, denotada por A Δ B, é um conceito que engloba os elementos exclusivos de cada conjunto, excluindo aqueles que são comuns a ambos. Em outras palavras, a diferença simétrica inclui todos os elementos que estão em A e não em B, juntamente com todos os elementos que estão em B e não em A."
   ]
  },
  {
   "cell_type": "code",
   "execution_count": 11,
   "metadata": {},
   "outputs": [
    {
     "name": "stdout",
     "output_type": "stream",
     "text": [
      "Diferença Simétrica de A e B: {1, 2, 3, 6, 7, 8}\n"
     ]
    }
   ],
   "source": [
    "# Definindo Conjuntos\n",
    "A = sp.FiniteSet(1, 2, 3, 4, 5)\n",
    "B = sp.FiniteSet(4, 5, 6, 7, 8)\n",
    "\n",
    "# Diferença Simétrica A - B\n",
    "symmetric_difference_set = A.symmetric_difference(B)\n",
    "print(f'Diferença Simétrica de A e B: {symmetric_difference_set}')"
   ]
  },
  {
   "cell_type": "markdown",
   "metadata": {},
   "source": [
    "\n",
    "\n",
    "\n",
    "<div align=\"center\">\n",
    "    <img src=\"https://miro.medium.com/v2/resize:fit:640/format:webp/1*GsVcS1jKayWEWU5m2zk8wA.png\">\n",
    "</div>"
   ]
  },
  {
   "cell_type": "markdown",
   "metadata": {},
   "source": [
    "# 4.0 Considerações Finais\n",
    "\n",
    "Com isso, concluímos a primeira parte da série de artigos “Aprendendo Matemática com Python”. Como bônus, ao final de cada artigo, apresentarei alguns exercícios e curiosidades para que você possa aprofundar seus conhecimentos no tema. Para este artigo, deixo uma seleção de exercícios na Khan Academy relacionados aos tópicos abordados.\n",
    "\n",
    "\n",
    "* [Aritmética - Khan Academy](https://pt.khanacademy.org/math/arithmetic?source=post_page-----71ca94029386--------------------------------)\n",
    "* [Noções de Conjuntos - Khan Academy](https://pt.khanacademy.org/math/arithmetic?source=post_page-----71ca94029386--------------------------------)\n",
    "\n"
   ]
  },
  {
   "cell_type": "markdown",
   "metadata": {},
   "source": [
    "Uma curiosidade maneira, é que os Diagramas de Venn mostrados nesse artigo foram todos feito utilizando Python. Caso queiram saber um pouco mais sobre, recomendo a biblioteca MatplotLib_Venn.\n",
    "\n",
    "\n",
    "\n",
    "* [Noções de Conjuntos - Khan Academy](https://pypi.org/project/matplotlib-venn/?source=post_page-----71ca94029386--------------------------------)\n"
   ]
  },
  {
   "cell_type": "markdown",
   "metadata": {},
   "source": [
    "E por hoje é isso pessoal! Me sigam nas redes:\n",
    "\n",
    "Linkedin — (https://www.linkedin.com/in/jvroot/)\n",
    "\n",
    "Github — (https://github.com/JV-root)"
   ]
  }
 ],
 "metadata": {
  "kernelspec": {
   "display_name": "Python 3",
   "language": "python",
   "name": "python3"
  },
  "language_info": {
   "codemirror_mode": {
    "name": "ipython",
    "version": 3
   },
   "file_extension": ".py",
   "mimetype": "text/x-python",
   "name": "python",
   "nbconvert_exporter": "python",
   "pygments_lexer": "ipython3",
   "version": "3.11.5"
  }
 },
 "nbformat": 4,
 "nbformat_minor": 2
}
