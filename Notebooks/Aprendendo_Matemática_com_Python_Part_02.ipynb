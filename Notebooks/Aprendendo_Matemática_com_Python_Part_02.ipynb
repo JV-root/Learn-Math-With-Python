{
  "cells": [
    {
      "cell_type": "markdown",
      "metadata": {
        "id": "n5svrYb88gvU"
      },
      "source": [
        "# 1.0 Introdução"
      ]
    },
    {
      "cell_type": "markdown",
      "metadata": {
        "id": "DxTyZ4ew8gvd"
      },
      "source": [
        "Fala, pessoal! Sejam muito bem-vindos à mais uma etapa da nossa jornada de aprendizado de Matemática com Python! Estou empolgadíssimo com os temas que vamos explorar desta vez.\n",
        "\n",
        "Sem mais enrolação, vamos nessa!"
      ]
    },
    {
      "cell_type": "markdown",
      "metadata": {
        "id": "3iGLBMf98gvf"
      },
      "source": [
        "## 2.0 Potenciação e Radiciação"
      ]
    },
    {
      "cell_type": "markdown",
      "metadata": {
        "id": "y4PUbpr48gvh"
      },
      "source": [
        "Continuando nossa jornada pelos conceitos fundamentais da matemática, quero começar este capítulo dando uma olhada mais de perto nos temas potenciação e radiciação.\n",
        "\n",
        "Potenciação é uma operação matemática que envolve a multiplicação repetida de um número por ele mesmo, elevado a uma certa potência. O número que está sendo multiplicado é chamado de base, e o expoente indica quantas vezes a base deve ser multiplicada por si mesma.\n",
        "\n",
        "O resultado dessa operação é chamado de potência. Por exemplo, **2³** significa 2 multiplicado por ele mesmo três vezes (2 * 2 * 2), resultando em 8.\n",
        "\n",
        "Já a Radiciação é uma operação matemática que representa a extração de raiz de um número. A raiz é o número que, quando elevado a um certo expoente, produz o número original. O símbolo radical (√) é comumente usado para indicar a operação de radiciação.\n",
        "\n",
        "O número que está dentro do símbolo radical é chamado de radicando. Por exemplo, √9 é igual a 3, pois 3 elevado ao quadrado (3²) resulta em 9.\n",
        "\n",
        "Vamos a um pouco de história."
      ]
    },
    {
      "cell_type": "markdown",
      "metadata": {
        "id": "RtOu_0Ux8gvj"
      },
      "source": [
        "### 2.1 Arquimedes e o Sol\n",
        "\n",
        "A ideia de elevar um número a uma potência tem raízes antigas, mas os registros históricos indicam que os babilônios, por volta de 2000 a.C., já utilizavam técnicas de potenciação. Porém, a formalização desses conceitos ocorreu mais tarde, com os gregos antigos.\n",
        "\n",
        "Reza a lenda em que Arquimedes em seus estudos empreendeu o desafio de calcular quantos grãos de areia seriam necessários para preencher o Universo. Esta questão, por mais peculiar que pareça, era fundamental para Arquimedes em sua época. Na concepção daquele período, o Universo era considerado um sistema de esferas, todas compartilhando o mesmo centro: o Sol. Os planetas eram fixados na superfície de cada esfera.\n",
        "\n",
        "<div align=\"center\">\n",
        "    <img src=\"https://cdn.pensador.com/img/authors/ar/qu/arquimedes-l.jpg\" alt=\"Arquimedes\" width=\"250px\">\n",
        "</div>\n",
        "\n",
        "\n",
        "Realizando cálculos relacionados aos diâmetros dessas esferas, Arquimedes determinou o volume do Universo, bem como o volume médio de um grão de areia. Ao final da divisão, o resultado obtido era um número imenso. Para lidar com isso, Arquimedes desenvolveu uma tabela e introduziu algarismos especiais chamados \"miríades,\" que correspondem aos expoentes modernos, simplificando os cálculos com números de grande magnitude."
      ]
    },
    {
      "cell_type": "markdown",
      "metadata": {
        "id": "e4oc5-Sx8gvn"
      },
      "source": [
        "### 2.2 Potenciação em Python\n",
        "\n",
        "As operações envolvendo potenciação podem ser aplicadas de maneira bem simples no python, no geral sem utilizar nenhuma biblioteca adicional. O operador nesse caso, é o ****.** Dessa forma, para elevar um dado valor **A** a uma potência **B**, basta executar:"
      ]
    },
    {
      "cell_type": "code",
      "execution_count": null,
      "metadata": {
        "id": "I14IepUc8gvp",
        "outputId": "d30d6b5f-de6e-485e-de71-21eb5679beee",
        "colab": {
          "base_uri": "https://localhost:8080/"
        }
      },
      "outputs": [
        {
          "output_type": "stream",
          "name": "stdout",
          "text": [
            "Resultado da operação ao quadrado = 4\n",
            "Resultado da operação ao cubo = 8\n",
            "Resultado da operação a quarta = 16\n",
            "Resultado da operação X elevado a Y = 32\n"
          ]
        }
      ],
      "source": [
        "# Definindo valores\n",
        "x = 2\n",
        "y = 5\n",
        "\n",
        "# Operações com Potências\n",
        "x_quadrado = x ** 2\n",
        "x_cubo = x ** 3\n",
        "x_quarta = x ** 4\n",
        "x_elevado_y = x ** y\n",
        "\n",
        "print(f'Resultado da operação ao quadrado = {x_quadrado}')\n",
        "print(f'Resultado da operação ao cubo = {x_cubo}')\n",
        "print(f'Resultado da operação a quarta = {x_quarta}')\n",
        "print(f'Resultado da operação X elevado a Y = {x_elevado_y}')"
      ]
    },
    {
      "cell_type": "markdown",
      "metadata": {
        "id": "bweKipgR8gvv"
      },
      "source": [
        "A operação de potenciação pode ser feita também utilizando a função pow da biblioteca Math:"
      ]
    },
    {
      "cell_type": "code",
      "execution_count": null,
      "metadata": {
        "id": "SloQYvYC8gvx",
        "outputId": "ac14d194-98eb-4e18-e4ba-bdaf42ee9ace",
        "colab": {
          "base_uri": "https://localhost:8080/"
        }
      },
      "outputs": [
        {
          "output_type": "stream",
          "name": "stdout",
          "text": [
            "Resultado da operação ao quadrado = 4.0\n",
            "Resultado da operação ao cubo = 8.0\n",
            "Resultado da operação a quarta = 16.0\n",
            "Resultado da operação X elevado a Y = 32.0\n"
          ]
        }
      ],
      "source": [
        "from math import pow\n",
        "\n",
        "# Definindo valores\n",
        "x = 2\n",
        "y = 5\n",
        "\n",
        "# Operações com Potencias\n",
        "x_quadrado = pow(x, 2)\n",
        "x_cubo = pow(x, 3)\n",
        "x_quarta = pow(x, 4)\n",
        "x_elevado_y = pow(x , y)\n",
        "\n",
        "print(f'Resultado da operação ao quadrado = {x_quadrado}')\n",
        "print(f'Resultado da operação ao cubo = {x_cubo}')\n",
        "print(f'Resultado da operação a quarta = {x_quarta}')\n",
        "print(f'Resultado da operação X elevado a Y = {x_elevado_y}')"
      ]
    },
    {
      "cell_type": "markdown",
      "metadata": {
        "id": "i5H701Uw8gvy"
      },
      "source": [
        "### 2.3 Radiciação\n",
        "\n",
        "A operação de radiciação (ou também conhecida como Raiz) pode ser feita utilizando a própria operação de Potenção. Ou seja, para se obter a Raiz Quadrada de um dado valor X, basta que seja elevado a 1/2.\n",
        "\n",
        "Porém é importante ressaltar que, neste caso, a divisão a ser usada na potência não pode ocorrer com valores inteiros. Ou seja, na linguagem Python, **1/2 = 0**. (isso faria qualquer valor diferente de 0 elevado a essa potencia resultar em 1) e **1.0 / 2 = 0.5**.\n",
        "\n",
        "Vamos ao exemplo:"
      ]
    },
    {
      "cell_type": "code",
      "execution_count": null,
      "metadata": {
        "id": "H_RDrlDP8gvz",
        "outputId": "646840df-561e-4cf0-c25e-4c6699383672",
        "colab": {
          "base_uri": "https://localhost:8080/"
        }
      },
      "outputs": [
        {
          "output_type": "stream",
          "name": "stdout",
          "text": [
            "Resultado da Raiz Quadrada de X = 16.0\n",
            "Resultado da Raiz Cubica de X = 6.3496042078727974\n",
            "Resultado da Raiz Quarta de X = 4.0\n"
          ]
        }
      ],
      "source": [
        "# Definindo valores\n",
        "x = 256\n",
        "\n",
        "# Operações de Radiciação\n",
        "x_raiz_quadrada = x ** (1 / 2)\n",
        "x_raiz_cubica = x ** (1 / 3)\n",
        "x_raiz_quarta = x ** (1 / 4)\n",
        "\n",
        "print(f'Resultado da Raiz Quadrada de X = {x_raiz_quadrada}')\n",
        "print(f'Resultado da Raiz Cubica de X = {x_raiz_cubica}')\n",
        "print(f'Resultado da Raiz Quarta de X = {x_raiz_quarta}')"
      ]
    },
    {
      "cell_type": "markdown",
      "metadata": {
        "id": "3ypzI43i8gv0"
      },
      "source": [
        "Antes de mergulharmos em outro tópico, vale a pena ressaltar de forma clara a lei da Exponenciação.\n",
        "\n",
        "Essencialmente, a lei da Exponenciação (ou Potenciação) estipula que, ao multiplicar duas potências com a mesma base, a soma dos expoentes é necessária. Matematicamente, para números reais A, B, e C, a expressão A**^(B + C)** equivale a A**^B * A^C**.\n",
        "\n",
        "Essa regra simplifica a multiplicação de potências com a mesma base, adicionando uma maior eficiência à manipulação algébrica."
      ]
    },
    {
      "cell_type": "markdown",
      "metadata": {
        "id": "7nmLbgSU8gv1"
      },
      "source": [
        "$$\n",
        "a^{b + c} = a^b \\cdot a^c\n",
        "$$"
      ]
    },
    {
      "cell_type": "markdown",
      "metadata": {
        "id": "c_M75wgP8gv1"
      },
      "source": [
        "Aplicando em Python, temos o seguinte código:"
      ]
    },
    {
      "cell_type": "code",
      "execution_count": null,
      "metadata": {
        "id": "WHJyQApE8gv2",
        "outputId": "f1914bf1-d9d4-44da-d3df-eced573eb332",
        "colab": {
          "base_uri": "https://localhost:8080/"
        }
      },
      "outputs": [
        {
          "output_type": "stream",
          "name": "stdout",
          "text": [
            "3125\n",
            "3125\n",
            "----------------------------------------------------\n",
            "78125\n",
            "78125\n"
          ]
        }
      ],
      "source": [
        "print(5 ** 5)\n",
        "print(5 * 5 * 5 * 5 * 5)\n",
        "\n",
        "print('----------------------------------------------------')\n",
        "\n",
        "print(5 ** 2 * 5 ** 5)\n",
        "print(5 ** (2 + 5))"
      ]
    },
    {
      "cell_type": "markdown",
      "metadata": {
        "id": "LQIb-mf_8gv3"
      },
      "source": [
        "## 3.0 Sequência das Operações em Python\n",
        "\n",
        "Um assunto que considero extremamente importante etneder em Python é a sequência de execução de operações matemáticas. A linguagem segue uma ordem predefinida para realizar várias operações em uma única linha de comando. Essa ordem é a seguinte:\n",
        "\n",
        "- Parênteses\n",
        "- Potenciação;\n",
        "- Multiplicação;\n",
        "- Divisão;\n",
        "- Adição;\n",
        "- Subtração;\n",
        "\n",
        "Ou seja, dada a seguinte equação:"
      ]
    },
    {
      "cell_type": "markdown",
      "metadata": {
        "id": "zQL5DcS78gv3"
      },
      "source": [
        "$$\n",
        "2 + 3 \\times 256 / 8 - 2\n",
        "$$"
      ]
    },
    {
      "cell_type": "markdown",
      "metadata": {
        "id": "QCQiQEcH8gv4"
      },
      "source": [
        "O Python iria realizá-la da seguinte forma:\n",
        "\n",
        "- 3 * 256 = 768;\n",
        "- 768 / 8 = 96;\n",
        "- 2 + 96 = 98;\n",
        "- 98 - 2 = 96.\n",
        "\n",
        "Se a mesma operação fosse feita com parenteses, sua sequência de execução mudaria, como no exemplo abaixo:\n"
      ]
    },
    {
      "cell_type": "markdown",
      "metadata": {
        "id": "RZUvgqCy8gv4"
      },
      "source": [
        "$$\n",
        "(2 + 3) \\times 256 / (8 - 2)\n",
        "$$\n"
      ]
    },
    {
      "cell_type": "markdown",
      "metadata": {
        "id": "hahMgvHr8gv4"
      },
      "source": [
        "* 2 + 5 = 5;\n",
        "* 8 - 2 = 6;\n",
        "* 5 * 256 = 1280;\n",
        "* 1280 / 6 = 213.33;"
      ]
    },
    {
      "cell_type": "markdown",
      "metadata": {
        "id": "UiwA45_f8gv4"
      },
      "source": [
        "Uma forma de memorizar a ordem de execução de operações matemáticas em python, é utilizando de uma regra em inglês chamada PEMDAS;\n",
        "\n",
        "- **P**arentheses\n",
        "- **E**xponents\n",
        "- **M**ultiplication\n",
        "- **D**ivision\n",
        "- **A**ddition\n",
        "- **S**ubtraction\n",
        "\n",
        " Então, para lembrar da sequência de execução, lembre de um panda fofinho:"
      ]
    },
    {
      "cell_type": "markdown",
      "metadata": {
        "id": "ETcIc02L8gv5"
      },
      "source": [
        "<div align=\"center\">\n",
        "    <img src=\"https://img.freepik.com/vetores-gratis/panda-fofinho-com-bambu_138676-3053.jpg?w=740&t=st=1704585561~exp=1704586161~hmac=9b41f1717eb3d0a6afd0113d989e73c3d9a33a2d8f56621b2dca86bf34f283c1\" alt=\"PEMDAS\" width=\"250px\">\n",
        "</div>"
      ]
    },
    {
      "cell_type": "markdown",
      "metadata": {
        "id": "A6w6Nlrd8gv5"
      },
      "source": [
        "## 4.0 Equações em Python\n",
        "\n",
        "Como último, gostaria de falar um pouco sobre como representar equações em Python. Uma das ferramentas mais utilizadas no mundo da matemática para representar equações matemáticas no computador é o Latex.\n",
        "\n",
        "<div align = \"center\">\n",
        "    <img src = \"https://pplware.sapo.pt/wp-content/uploads/2010/08/latex_00.jpg\" alt = \"Latex\" width = \"250px\">\n",
        "\n",
        "</div>"
      ]
    },
    {
      "cell_type": "markdown",
      "metadata": {
        "id": "V38N_v088gv6"
      },
      "source": [
        "O LaTeX, criado por Leslie Lamport na década de 1980, é uma linguagem de marcação amplamente utilizada para representar equações matemáticas em documentos científicos. Diferentemente de processadores de texto convencionais, o LaTeX oferece formatação automática, permitindo que os usuários foquem no conteúdo.\n",
        "\n",
        "Essa ferramenta é essencial para acadêmicos e cientistas, proporcionando qualidade tipográfica superior e facilitando a expressão de equações complexas. Além de seu uso em notação matemática, o LaTeX é prevalente na criação de artigos científicos, teses e apresentações em ambientes acadêmicos, proporcionando consistência e clareza na comunicação de ideias e descobertas."
      ]
    },
    {
      "cell_type": "markdown",
      "metadata": {
        "id": "UJ78Ar9t8gv6"
      },
      "source": [
        "### 4.1 Aplicação em Python\n",
        "\n",
        "Inicialmente, iriei mostrar algumas equações e funcionalidades básicas do Latex em python, e conforme a evolução dos tópicos ao longo dos artigos irei mostrando novas.\n",
        "\n",
        "para representar as equações, iremos utlizar o módulo Python chamado IPython.display que faz parte da biblioteca IPython. Além disso, iremos importas as seguintes funções em nosso código: `display, Math, Latex`."
      ]
    },
    {
      "cell_type": "code",
      "execution_count": null,
      "metadata": {
        "id": "yd2sMu9l8gv6"
      },
      "outputs": [],
      "source": [
        "# Importando Bibliotecas\n",
        "from IPython.display import display, Math, Latex\n"
      ]
    },
    {
      "cell_type": "markdown",
      "metadata": {
        "id": "Tu_IHgcB8gv7"
      },
      "source": [
        "A partir dessa linha de código, podemos utilizar as funções para plotar equações matemáticas utilizando a função display, como no exemplo:"
      ]
    },
    {
      "cell_type": "code",
      "execution_count": null,
      "metadata": {
        "id": "u9e0Ckwh8gv7",
        "outputId": "d763ca11-2ae7-43ed-d4f1-f3013b0119be",
        "colab": {
          "base_uri": "https://localhost:8080/",
          "height": 35
        }
      },
      "outputs": [
        {
          "output_type": "display_data",
          "data": {
            "text/plain": [
              "'5 + 5 = 10'"
            ],
            "application/vnd.google.colaboratory.intrinsic+json": {
              "type": "string"
            }
          },
          "metadata": {}
        }
      ],
      "source": [
        "# Plotando a primeira equação em Python.\n",
        "display('5 + 5 = 10')"
      ]
    },
    {
      "cell_type": "markdown",
      "metadata": {
        "id": "1oXyiANr8gv8"
      },
      "source": [
        "Um outro exemplo interessante, é utilizar o próprio Python para calcular o resultado da operação:"
      ]
    },
    {
      "cell_type": "code",
      "execution_count": null,
      "metadata": {
        "id": "AfoBea8Q8gv8",
        "outputId": "d6060167-dd6e-4b99-e9d4-011928d5a7a7",
        "colab": {
          "base_uri": "https://localhost:8080/",
          "height": 35
        }
      },
      "outputs": [
        {
          "output_type": "display_data",
          "data": {
            "text/plain": [
              "'10 + 5 = 15'"
            ],
            "application/vnd.google.colaboratory.intrinsic+json": {
              "type": "string"
            }
          },
          "metadata": {}
        }
      ],
      "source": [
        "# Utilizando o Python para calcular o resultado da equação.\n",
        "display('10 + 5 = ' + str(10 + 5) )"
      ]
    },
    {
      "cell_type": "markdown",
      "metadata": {
        "id": "MIryLgxf8gv9"
      },
      "source": [
        "Agora, vamos utilizar variáveis para armazenar valores que serão usados nas equações. Uma forma de fazer isso é semelhante com a funcionalidade [f-string](https://peps.python.org/pep-0498/) utilizada no print:"
      ]
    },
    {
      "cell_type": "code",
      "execution_count": null,
      "metadata": {
        "id": "yeBXOF_q8gv9",
        "outputId": "18287446-fe0e-44ee-dc60-096ff48927e6",
        "colab": {
          "base_uri": "https://localhost:8080/"
        }
      },
      "outputs": [
        {
          "output_type": "stream",
          "name": "stdout",
          "text": [
            "Olá, Mundo!\n"
          ]
        }
      ],
      "source": [
        "# F-string\n",
        "ola = 'Olá, Mundo!'\n",
        "print(f'{ola}')"
      ]
    },
    {
      "cell_type": "markdown",
      "metadata": {
        "id": "6pZK3qd28gv-"
      },
      "source": [
        "Aplicando a função display:"
      ]
    },
    {
      "cell_type": "code",
      "execution_count": null,
      "metadata": {
        "id": "ErMo1prh8gv-",
        "outputId": "fd43d9dc-e87a-4333-cdc4-3bb04c52ca47",
        "colab": {
          "base_uri": "https://localhost:8080/",
          "height": 37
        }
      },
      "outputs": [
        {
          "output_type": "display_data",
          "data": {
            "text/plain": [
              "<IPython.core.display.Math object>"
            ],
            "text/latex": "$\\displaystyle 10 + 5 = 15$"
          },
          "metadata": {}
        }
      ],
      "source": [
        "# Definindo valores\n",
        "x = 10\n",
        "y = 5\n",
        "\n",
        "# Plotando a equação.\n",
        "display(Math('%g + %g = %g' %(x, y, x + y)))"
      ]
    },
    {
      "cell_type": "markdown",
      "metadata": {
        "id": "-Ywy6PXm8gv_"
      },
      "source": [
        "Agora vamos ver como fica fração utilizando o Latex:"
      ]
    },
    {
      "cell_type": "code",
      "execution_count": null,
      "metadata": {
        "id": "IVnazI5Z8gwA",
        "outputId": "557bb18e-1f55-4931-e5e2-3a7883da2363",
        "colab": {
          "base_uri": "https://localhost:8080/",
          "height": 51
        }
      },
      "outputs": [
        {
          "output_type": "display_data",
          "data": {
            "text/plain": [
              "<IPython.core.display.Math object>"
            ],
            "text/latex": "$\\displaystyle \\frac{10}{5} = 2$"
          },
          "metadata": {}
        }
      ],
      "source": [
        "# Definindo valores\n",
        "x = 10\n",
        "y = 5\n",
        "\n",
        "# Plotando a equação.\n",
        "display(Math('\\\\frac{%g}{%g} = %g' %(x, y, x / y)))"
      ]
    },
    {
      "cell_type": "markdown",
      "metadata": {
        "id": "4QMhY2_D8gwA"
      },
      "source": [
        "Repare que inicialmente é algo bem intuitivo, passamos a função 'frac{}{}' com seus respectivos valores dentro das chaves. Um detalhe importante de mencionar é que no caso do Latex aplicado ao Python, é preciso passar duas \\ (barras para a esquerda) antes de utilizar essas funções."
      ]
    },
    {
      "cell_type": "markdown",
      "metadata": {
        "id": "ny85jlTi8gwB"
      },
      "source": [
        "Por último, vamos ver como podemos representar a potenciação no Latex com python:"
      ]
    },
    {
      "cell_type": "code",
      "execution_count": null,
      "metadata": {
        "id": "Nl8ryZ638gwK",
        "outputId": "f0eed156-7124-4dfc-897d-a80679d4a2f9",
        "colab": {
          "base_uri": "https://localhost:8080/",
          "height": 37
        }
      },
      "outputs": [
        {
          "output_type": "display_data",
          "data": {
            "text/plain": [
              "<IPython.core.display.Math object>"
            ],
            "text/latex": "$\\displaystyle 10 ^ 5 = 50$"
          },
          "metadata": {}
        }
      ],
      "source": [
        "# Definindo valores\n",
        "x = 10\n",
        "y = 5\n",
        "\n",
        "# Plotando a equação\n",
        "display(Math('%g ^ %g = %g' %(x, y, x * y)))"
      ]
    },
    {
      "cell_type": "markdown",
      "metadata": {
        "id": "C-AHC_8v8gwL"
      },
      "source": [
        "O símbolo '^' (para os mais intimos a casinha hahahaha) é utilizado para representar a potenciação."
      ]
    },
    {
      "cell_type": "markdown",
      "source": [
        "# 5.0 Considerações Finais"
      ],
      "metadata": {
        "id": "WC4bsRcVYAJu"
      }
    },
    {
      "cell_type": "markdown",
      "source": [
        "Com isso, encerramos a segunda parte da série de artigos \"Aprendendo Matemática com Python\". Como de costume, ao término, apresentarei alguns exercícios e curiosidades para que você possa aprimorar ainda mais seus conhecimentos no assunto.\n",
        "\n",
        "Para o desafio de hoje, proponho uma atividade envolvendo LaTeX. A tarefa consiste em plotar as seguintes equações:"
      ],
      "metadata": {
        "id": "8LjACGSeYmeB"
      }
    },
    {
      "cell_type": "markdown",
      "source": [
        "![image.png](data:image/png;base64,iVBORw0KGgoAAAANSUhEUgAAANQAAABKCAYAAADDsnorAAAAAXNSR0IArs4c6QAAAARnQU1BAACxjwv8YQUAAAAJcEhZcwAADsMAAA7DAcdvqGQAAAVFSURBVHhe7d2BNStbFIfx8SpACagAJaAClIAKQgmoIJSACkIJqAAloIO8+cacZTI3MRM5icnk+62VxeDGu+/N3z5nnx1vqZ9KJEXxX/5WUgQGSorIQEkRGSgpIgMlRWSgpIgMlBSRgZIiMlBSRAZKishASREZKCkiAyVFZKCkiAyUFJGvh1Kl29vb5P39PXl7e0s+Pz+Tq6ur/DMqs0LpR6+vr1mQjo+Pk4uLiyxYp6en+WdVZqD0IyrSzc1NfpUkOzs7yfPzc36lMgOlH21tbSVPT0/5VZJVq83NzfxKZe6hGoBl1eHhYfbTf21tLasKDw8PSbfbTdbX1/Ovmh72SI+Pj8nq6mq2pNve3k4ODg7yz377+PjIPsfXrqys5B/VAAKlv/Xy8tJPg8QPtv7y8nJ/f38/+9gs9Hq97FF0fn7eT5d5+dU3/rnSMOVXGsZANQDhGXYDzwIhSatSfvWF66Ojo/zqCyELYZpV2OeRe6g5xlKR7tsodOXu7+/zq9HS8OTvfWG5Wdwn8Rxcs5/C3d1d9lb/MlANwWaf8x0etKXrBIH9FfuuYfud0OLe3d3NPzLc2dlZFhCei+/Jgz1SCCqh3dvbyx5LS0vZg+fVCHml0h9iicWSqog9Vd39SrfbHVii8VydTie/qsYSjr0bt0NaifKP6jfs8jUUFYKqVadSgcrG+RBdwlDt6qBzR5VK91LZn+d9nqPX682kw9g6WazUOFQZqsY4aDBQ2caRLhkHmhK8T5Ua93n0xT1UA1AJOAsq4zyqLioS50g0GOqOBrE/SkM7cKbE+xzkUuWoXhqPgWoAbury9AE3NA2HOsJyLzQ0CFbdUI0KLd/bw9vxGagGoKoQgoDKwPwckxJVqGy0uYt7phCmqlBRGQlzcbQIXNcNswbZlGgIAkG1oCXN206nU9kUYMlGE2HYchEEimBUtc5Diz2EmqbEsFa8qrU+UOEnNzcp5yvMohV/cv/1HJ1ahkC1FWcxnNEU8VcunvnEmqMrdsq0uFq/hyqPybBnoFIVpQHjB0u2d2H59JvKxJ6n7pmR2qvVgSrPshEYlnRuuDUtC9Xlu76+ztrT5YHS38zRScMsRKAIShjlKbeIQ2eLz/Ogqp2cnPzzdVIdCxEogkKoqE60kIsTABxels9rWBLSjpbGtXDnUASKM5efKhBVikbFqNEbAspzFFH9QOu9iGuebxReDjHPFuz2qUag2mrYS7Z5mQN/7dDmpmVefrUsbfVx/9XQni+/lFyLp7VLPg5saZmHyhGEyhLm1Cado5OKWhsozpIY3ykGgyUcUxAs54JJ5uikstbvoYpzahzoMmZUnlOjYTHuHF0Zz8F+qWpuTu3mcGwkBkowUJGEjmCs1xCFykrFZE/H0nQWE+AOC0+IQKlZGOotDujSkeQ/VXnQdxpiDQsvKitUA1EJaIyE34MHzr6oFFSQaeL5efWvr4f6nYWa5ZsXLPXKE/G098tHAGoeK9ScqDPhEUM4vyPACGdyNlvqMVBzgJt8Y2Mjq1rFZeA00FxhKr843zhsCarhDNQc4Eamy8c+6i/wfalUvqylmoFqOCoF7euqMHGzX15e5lc/47fEjhPOqmFhfTNQDcZhMWZZmVjeEZ5il49A8XIWb5VqdvkaiorDuFQxTCFg0+Sw8GQMVAPRyQudNoLFg18eM4v/WbTDwpNxyddAjC8x8lPGzT6LKsX3mHRYeFEZKCkil3xSRAZKishASREZKCkiAyVFZKCkiAyUFJGBkiIyUFJEBkqKyEBJERkoKSIDJUVkoKSIDJQUkYGSokmS/wGHBSm3QDF7pgAAAABJRU5ErkJggg==)\n",
        "\n",
        "![image.png](data:image/png;base64,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)"
      ],
      "metadata": {
        "id": "6JnXiLS8Za7z"
      }
    },
    {
      "cell_type": "markdown",
      "source": [
        "<details><summary style=\"font-size:25px;\">Clique aqui para ver a solução</summary>\n",
        "\n",
        " ```python\n",
        "# Solução Exercício 01\n",
        "display(Math('35 + \\\\frac{5 \\\\times 8 ^ {2}}{2 - 5}'))\n",
        "\n",
        "\n",
        "# Solução Exercício 02\n",
        "display(Math('\\\\frac {12}{13} + \\\\frac{1 \\\\times 65 ^ \\\\frac{5}{2}}{2 - 5} - \\\\frac{3}{7}'))\n",
        "\n",
        "```\n"
      ],
      "metadata": {
        "id": "gi8JgYW7i3KN"
      }
    },
    {
      "cell_type": "markdown",
      "source": [
        "Além dos exercícios, deixo alguns link do Khan Academy sobre os assuntos citados:\n",
        "\n",
        "### Khan Academy:\n",
        "\n",
        "* [Raízes, potências e notação científica | Pré-álgebra | Khan Academy](https://pt.khanacademy.org/math/pre-algebra/pre-algebra-exponents-radicals)\n",
        "\n",
        "* [PEMDAS Khan Academy](https://pt-pt.khanacademy.org/math/pre-algebra/xb4832e56:exponents-intro-and-order-of-operations/xb4832e56:order-of-operations/v/more-complicated-order-of-operations-example)\n",
        "\n",
        "* [Potenciação Khan Academy](https://pt.khanacademy.org/math/arithmetic/x18ca194a:exponents-and-powers-of-ten/x18ca194a:intro-to-exponents/v/introduction-to-exponents)\n",
        "\n",
        "### Curiosidades\n",
        "\n",
        "* [O desafio de Arquimedes para contar grãos de areia - IMPA - Instituto de Matemática Pura e Aplicada](https://impa.br/noticias/o-desafio-de-arquimedes-para-contar-graos-de-areia/)\n",
        "\n",
        "* [Potência: História da descoberta do conceito](https://educacao.uol.com.br/disciplinas/matematica/potencia-2-historia-da-descoberta-do-conceito.htm?next=0004H541U0L0P)"
      ],
      "metadata": {
        "id": "sqWt5UNzjVdd"
      }
    },
    {
      "cell_type": "markdown",
      "source": [
        "E por hoje é isso pessoal! Me sigam nas redes:\n",
        "\n",
        "Linkedin — (https://www.linkedin.com/in/jvroot/)\n",
        "\n",
        "Github — (https://github.com/JV-root)"
      ],
      "metadata": {
        "id": "LwREAlBOmSjX"
      }
    },
    {
      "cell_type": "markdown",
      "source": [
        "\n",
        "\n",
        "<div align=\"Left\">\n",
        "    <img src=\"https://gamefragger.com/cdn-cgi/image/fit=cover,width=670,height=377,quality=75//images/articles/banners/15355.jpg\" width=\"500px\">\n",
        "</div>\n"
      ],
      "metadata": {
        "id": "uDdGjc88m423"
      }
    }
  ],
  "metadata": {
    "kernelspec": {
      "display_name": "base",
      "language": "python",
      "name": "python3"
    },
    "language_info": {
      "codemirror_mode": {
        "name": "ipython",
        "version": 3
      },
      "file_extension": ".py",
      "mimetype": "text/x-python",
      "name": "python",
      "nbconvert_exporter": "python",
      "pygments_lexer": "ipython3",
      "version": "3.11.5"
    },
    "colab": {
      "provenance": []
    }
  },
  "nbformat": 4,
  "nbformat_minor": 0
}